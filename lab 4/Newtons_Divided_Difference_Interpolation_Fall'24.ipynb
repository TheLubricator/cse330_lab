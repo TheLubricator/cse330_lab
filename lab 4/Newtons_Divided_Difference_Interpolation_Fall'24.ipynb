{
 "cells": [
  {
   "cell_type": "markdown",
   "metadata": {
    "id": "fP0MNErrPlvS"
   },
   "source": [
    "Make sure you remove `raise NotImplementedError()` and fill in any place that says `# YOUR CODE HERE`, as well as your `NAME`, `ID`, and `SECTION` below:"
   ]
  },
  {
   "cell_type": "code",
   "execution_count": 1,
   "metadata": {
    "id": "dxCjWtFxPlvX"
   },
   "outputs": [],
   "source": [
    "NAME = \"SHAH FAIYAZ ZAMAN\"\n",
    "ID = \"21301097\"\n",
    "SECTION = \"05\""
   ]
  },
  {
   "cell_type": "markdown",
   "metadata": {
    "id": "NQ8skUBePlvZ"
   },
   "source": [
    "---"
   ]
  },
  {
   "cell_type": "markdown",
   "metadata": {
    "deletable": false,
    "editable": false,
    "id": "t6HuHqs8Plva",
    "nbgrader": {
     "cell_type": "markdown",
     "checksum": "2ac7b29da925009a6e6e93ce16cd1871",
     "grade": false,
     "grade_id": "intro1",
     "locked": true,
     "schema_version": 3,
     "solution": false,
     "task": false
    }
   },
   "source": [
    "## Importing the necessary libraries"
   ]
  },
  {
   "cell_type": "code",
   "execution_count": 2,
   "metadata": {
    "deletable": false,
    "editable": false,
    "id": "zaOqCWsePlvb",
    "nbgrader": {
     "cell_type": "code",
     "checksum": "b3ce57ac45d5516f69d56b4a7c02a1d6",
     "grade": false,
     "grade_id": "import",
     "locked": true,
     "schema_version": 3,
     "solution": false,
     "task": false
    }
   },
   "outputs": [],
   "source": [
    "import numpy as np\n",
    "import matplotlib.pyplot as plt\n",
    "from itertools import combinations\n",
    "from numpy.polynomial import Polynomial"
   ]
  },
  {
   "cell_type": "code",
   "execution_count": 3,
   "metadata": {
    "id": "NeFqdK1_IUG9"
   },
   "outputs": [],
   "source": [
    "P=Polynomial([1,2,3,4])"
   ]
  },
  {
   "cell_type": "code",
   "execution_count": 4,
   "metadata": {
    "colab": {
     "base_uri": "https://localhost:8080/"
    },
    "id": "Ve6OSlPxMM2e",
    "outputId": "ee043e01-a168-46e2-a222-055e835df044"
   },
   "outputs": [
    {
     "name": "stdout",
     "output_type": "stream",
     "text": [
      "2.0 + 6.0 x + 12.0 x**2\n"
     ]
    }
   ],
   "source": [
    "print(P.deriv(1))"
   ]
  },
  {
   "cell_type": "markdown",
   "metadata": {
    "deletable": false,
    "editable": false,
    "id": "UgP_TWwOPlvj",
    "nbgrader": {
     "cell_type": "markdown",
     "checksum": "c07a0720672d1b686830ce5cef78046c",
     "grade": false,
     "grade_id": "cell-580b64f506c61583",
     "locked": true,
     "schema_version": 3,
     "solution": false,
     "task": false
    }
   },
   "source": [
    "## Part 1: Polynomial Interpolation Using Newton's Divided Difference Form\n",
    "---\n"
   ]
  },
  {
   "cell_type": "markdown",
   "metadata": {
    "deletable": false,
    "editable": false,
    "id": "AgAbn67kPlvj",
    "nbgrader": {
     "cell_type": "markdown",
     "checksum": "030540dd5ee10acfca978c35d1e76cb8",
     "grade": false,
     "grade_id": "cell-95fa6d3532e84eff",
     "locked": true,
     "schema_version": 3,
     "solution": false,
     "task": false
    }
   },
   "source": [
    "### Newton's Divided Difference Form\n",
    "\n",
    "Newton form of a $n$ degree polynomial:\n",
    "\n",
    "$$p_n(x) = \\sum_{k=0}^{n} a_kn_k(x),$$\n",
    "where the basis is:\n",
    "$$n_k(x) = \\prod_{j=0}^{k-1}(x-x_j),$$\n",
    "$$ n_0(x)=1,$$\n",
    "\n",
    "and the coefficients are: $$a_k = f[x_0, x_1, ..., x_k],$$\n",
    "\n",
    "where the notation $f[x_0, x_1,\\dots,x_k]$ denotes the divided difference.\n",
    "\n",
    "By expanding the Newton form, we get:\n",
    "\n",
    "$$p(x) = f [x_0] + (x-x_0) f[x_0,x_1] + (x-x_0) (x-x_1) f[x_0,x_1,x_2] + \\dots + (x-x_0) (x-x_1) \\dots (x-x_{k-1}) f[x_0, x_1, \\dots, x_k]$$\n",
    "\n",
    "## Task 1 - 2+2 Marks\n",
    "1. Complete the `calc_div_diff(x,y)` function which takes input `x` and `y`, and calculates all the divided differences. You may use the lambda function `difference()` inside the `calc_div_diff(x,y)` function to calculate the divided differences.\n",
    "\n",
    "2. Complete the `__call__()` function which takes an input `x`, and calculates `y` using all the difference coefficients. `x` can be a single value or a numpy. In this case, it is a numpy array.\n",
    "\n",
    "`res` variable must contain all results (corresponding y for x)."
   ]
  },
  {
   "cell_type": "code",
   "execution_count": 14,
   "metadata": {
    "deletable": false,
    "id": "HZhqt-6JPlvj",
    "nbgrader": {
     "cell_type": "code",
     "checksum": "abd6bbf6334a986a608c38206f702989",
     "grade": false,
     "grade_id": "cell-fbe4c16afb6b3b32",
     "locked": false,
     "schema_version": 3,
     "solution": true,
     "task": false
    }
   },
   "outputs": [],
   "source": [
    "# basic rule for calculating the difference, implanted in the lambda function.\n",
    "# You may use it if you wish\n",
    "difference = lambda y2, y1, x2, x1: (y2-y1)/(x2-x1)\n",
    "\n",
    "def calc_div_diff(x,y):\n",
    "    assert(len(x)==len(y))\n",
    "    #write this function to calculate all the divided differences in the list 'b'\n",
    "    n = len(x)\n",
    "    b = np.zeros((n,n))  #initializing\n",
    "    #----------------------------------------------\n",
    "    # YOUR CODE HERE\n",
    "    b[:,0]=y\n",
    "    print(b)\n",
    "  \n",
    "    for j in range (1,n): #select column then traverse, no need to start from col 0 as we inserted values in prev line\n",
    "                            \n",
    "\n",
    "        for i in range(n-j): # number of rows required decrease as we go down column 0, so we decrease range\n",
    "            b[i,j]=(b [i+1,j-1] - b[i, j-1] )/(x[j+i] -  x[i])  # for upper part, for f[x1]-f[x0] for example, we need the next rows' previous column value\n",
    "                                                                # as such b[i+1, j-1] is selected ie i+1th row , j-1 col. For right part we use same row \n",
    "                                                                # but prev col value so b[i,j-1]\n",
    "\n",
    "                                                                # for lower part, the left part is same as the row number of X_data so x[i]\n",
    "                                                                # for righter one, we need to need to increase it as row and col both increases, so b[i+j]\n",
    "                                # for more context for row 0, we need x1,x2 x3 as col increases, for row 1 we need x2,x3 as col increases, so i+j  \n",
    "\n",
    "    #----------------------------------------------\n",
    "   \n",
    "    return b[0,:]"
   ]
  },
  {
   "cell_type": "code",
   "execution_count": 16,
   "metadata": {
    "deletable": false,
    "editable": false,
    "id": "FancUC_xPlvk",
    "nbgrader": {
     "cell_type": "code",
     "checksum": "a23dd58fcab86885a166b1e138b9ea08",
     "grade": true,
     "grade_id": "cell-72b9329c6c32517e",
     "locked": true,
     "points": 5,
     "schema_version": 3,
     "solution": false,
     "task": false
    }
   },
   "outputs": [
    {
     "name": "stdout",
     "output_type": "stream",
     "text": [
      "[[-60.   0.   0.   0.   0.   0.   0.]\n",
      " [-80.   0.   0.   0.   0.   0.   0.]\n",
      " [  6.   0.   0.   0.   0.   0.   0.]\n",
      " [  1.   0.   0.   0.   0.   0.   0.]\n",
      " [ 45.   0.   0.   0.   0.   0.   0.]\n",
      " [ 30.   0.   0.   0.   0.   0.   0.]\n",
      " [ 16.   0.   0.   0.   0.   0.   0.]]\n"
     ]
    }
   ],
   "source": [
    "data_x = [-3.,-2.,-1.,0.,1.,3.,4.]\n",
    "data_y = [-60.,-80.,6.,1.,45.,30.,16.]\n",
    "\n",
    "test = calc_div_diff(data_x, data_y)\n",
    "\n",
    "np.testing.assert_array_equal([-60.0,-20.0,53.0,-32.833333333333336,14.041666666666668,-3.465277777777778,0.7232142857142857], test)\n"
   ]
  },
  {
   "cell_type": "code",
   "execution_count": 23,
   "metadata": {
    "deletable": false,
    "id": "iLUOVj3APlvj",
    "nbgrader": {
     "cell_type": "code",
     "checksum": "50cdde63e49e009a199201f86744564a",
     "grade": false,
     "grade_id": "cell-9e446c528b62c87f",
     "locked": false,
     "schema_version": 3,
     "solution": true,
     "task": false
    }
   },
   "outputs": [],
   "source": [
    "class Newtons_Divided_Differences:\n",
    "\n",
    "    def __init__(self, differences, data_x):\n",
    "        self.differences = differences\n",
    "        self.data_x = data_x\n",
    "\n",
    "    def n(self, k, x):\n",
    "\n",
    "        result = 1\n",
    "        #----------------------------------------------\n",
    "        # YOUR CODE HERE\n",
    "        for i in range(0,k):\n",
    "            result*=(x-self.data_x[i]) # return nk= product of (1*(x-data[0])*(x-data[1])*(x-data[2])...........) based on value of k\n",
    "        #----------------------------------------------\n",
    "  \n",
    "        return result\n",
    "\n",
    "    def __call__(self, x):\n",
    "        '''\n",
    "        this function is for calculating y from given x using all the difference coefficients\n",
    "        x can be a single value or a numpy\n",
    "        the formula being used:\n",
    "        f(x) = f [x0] + (x-x0) f[x0,x1] + (x-x0) (x-x1) f[x0,x1,x2] + . . . + (x-x0) (x-x1) . . . (x-xk-1) f[x0, x1, . . ., xk]\n",
    "\n",
    "        work on this after implementing 'calc_div_diff'. Then you should have\n",
    "        f[x0], f[x0,x1]. . . . . ., f[x0, x1, . . ., xk] stored in self.differences\n",
    "\n",
    "        'res' variable must return all the results (corresponding y for x)\n",
    "        '''\n",
    "\n",
    "        res = 0 #Initialization to avoid runtime error. You can change this line if you wish\n",
    "\n",
    "        #----------------------------------------------\n",
    "        for k in range(len(self.differences)): #need to traverse all differences instead of self.x\n",
    "            res+=self.differences[k]*self.n(k,x)\n",
    "        \n",
    "        #----------------------------------------------\n",
    "\n",
    "        return res\n"
   ]
  },
  {
   "cell_type": "markdown",
   "metadata": {
    "deletable": false,
    "editable": false,
    "id": "affgKuuNPlvk",
    "nbgrader": {
     "cell_type": "markdown",
     "checksum": "e2b6e9e71eaf31b857393044c2768ac0",
     "grade": false,
     "grade_id": "cell-f6a9f264b02b2642",
     "locked": true,
     "schema_version": 3,
     "solution": false,
     "task": false
    }
   },
   "source": [
    "### Plotting the polynomial\n",
    "* `data_x` and `data_y` are the coordinates of the given nodes.\n",
    "\n",
    "* `differences` is a list which contains the divided differences as each of its elements: $f[x_0], f[x_0,x_1], f[x_0,x_1,x_2], \\dots$\n",
    "\n",
    "* `obj` is an object of type `Newtons_Divided_Differences`. Creating the object runs the constructor of the class where the `difference` are stored in `self.differences`.\n",
    "\n",
    "* `X` contains $x_i$ values through which we want to plot our polynomial.\n",
    "\n",
    "* Calling the object using `obj(X)` executes the `__call__()` function of the class, which returns a numpy array containing the corresponding $y_i$ values, and storing them in variable `F`.\n",
    "\n",
    "* Using `plt.plot(X,F)`, we plot the $(x_i, y_i)$ pairs of the polynomial."
   ]
  },
  {
   "cell_type": "code",
   "execution_count": null,
   "metadata": {
    "deletable": false,
    "editable": false,
    "id": "akcjxODFPlvk",
    "nbgrader": {
     "cell_type": "code",
     "checksum": "3f9ba22ae7061e1d74101e40a2d5a7a4",
     "grade": true,
     "grade_id": "cell-a16b9abefbcdc519",
     "locked": true,
     "points": 5,
     "schema_version": 3,
     "solution": false,
     "task": false
    }
   },
   "outputs": [
    {
     "name": "stdout",
     "output_type": "stream",
     "text": [
      "[[-30.   0.   0.   0.   0.   0.   0.]\n",
      " [-50.   0.   0.   0.   0.   0.   0.]\n",
      " [ 36.   0.   0.   0.   0.   0.   0.]\n",
      " [ 31.   0.   0.   0.   0.   0.   0.]\n",
      " [ 75.   0.   0.   0.   0.   0.   0.]\n",
      " [ 60.   0.   0.   0.   0.   0.   0.]\n",
      " [ 46.   0.   0.   0.   0.   0.   0.]]\n",
      "[ 1.91596033e+04  1.31559256e+04  8.56170186e+03  5.12699700e+03\n",
      "  2.63391150e+03  8.93915843e+02 -2.54706325e+02 -9.49306214e+02\n",
      " -1.30520928e+03 -1.41794588e+03 -1.36537320e+03 -1.20968853e+03\n",
      " -9.99333725e+02 -7.70791092e+02 -5.50270437e+02 -3.55287482e+02\n",
      " -1.96133541e+02 -7.72364950e+01  1.58695188e+00  4.39877195e+01\n",
      "  5.60495129e+01  4.53626937e+01  2.02068613e+01 -1.11578542e+01\n",
      " -4.10907896e+01 -6.30620348e+01 -7.20350085e+01 -6.47403240e+01\n",
      " -3.98409435e+01  2.01137807e+00  5.82283589e+01  1.24446168e+02\n",
      "  1.94795113e+02  2.62278038e+02  3.19257433e+02  3.58051252e+02\n",
      "  3.71637446e+02  3.54467202e+02  3.03386893e+02  2.18668743e+02\n",
      "  1.05150197e+02 -2.65179947e+01 -1.58514983e+02 -2.64384316e+02\n",
      " -3.07459722e+02 -2.39182188e+02  2.69168134e+00  4.95990006e+02\n",
      "  1.33613469e+03  2.63825919e+03]\n"
     ]
    },
    {
     "data": {
      "image/png": "[encoded data removed]",
      "text/plain": [
       "<Figure size 640x480 with 1 Axes>"
      ]
     },
     "metadata": {},
     "output_type": "display_data"
    },
    {
     "ename": "",
     "evalue": "",
     "output_type": "error",
     "traceback": [
      "\u001b[1;31mThe Kernel crashed while executing code in the current cell or a previous cell. \n",
      "\u001b[1;31mPlease review the code in the cell(s) to identify a possible cause of the failure. \n",
      "\u001b[1;31mClick <a href='https://aka.ms/vscodeJupyterKernelCrash'>here</a> for more info. \n",
      "\u001b[1;31mView Jupyter <a href='command:jupyter.viewOutput'>log</a> for further details."
     ]
    }
   ],
   "source": [
    "import numpy as np\n",
    "import matplotlib.pyplot as plt\n",
    "\n",
    "data_x = np.array([-5.,-1,-0.5,0.5,3.5,7.,9])\n",
    "data_y = np.array([-30., -50., 36., 31., 75., 60., 46.])\n",
    "differences = calc_div_diff(list(data_x), list(data_y))\n",
    "p = Newtons_Divided_Differences(list(differences),data_x)\n",
    "test_x = np.linspace(-7, 10, 50, endpoint=True)\n",
    "test_y = p(test_x)\n",
    "print(test_y)\n",
    "\n",
    "#generating 50 points from -3 to 4 in order to create a smooth line\n",
    "plt.plot(test_x, test_y)\n",
    "plt.plot(data_x, data_y, 'ro')\n",
    "plt.show()\n"
   ]
  },
  {
   "cell_type": "markdown",
   "metadata": {
    "id": "eQ634Itmk-Cc"
   },
   "source": [
    "# Daily Evaluation - 4 marks"
   ]
  },
  {
   "cell_type": "markdown",
   "metadata": {},
   "source": [
    "\n",
    "### Suppose, you have three nodes (−1.5, 3.75 ), ( 0.5, 1.22 ), ( 1.67, 2.9 ). Using Newton's Divided Difference method, print out the value of the interpolating polynomial at x = 0.25.\n",
    "\n",
    "### You have to solve the problem using Newtons_Divided_Differences class.\n"
   ]
  },
  {
   "cell_type": "code",
   "execution_count": 9,
   "metadata": {
    "id": "s-AfsuWHk-Us"
   },
   "outputs": [
    {
     "name": "stdout",
     "output_type": "stream",
     "text": [
      "[[3.75 0.   0.  ]\n",
      " [1.22 0.   0.  ]\n",
      " [2.9  0.   0.  ]]\n",
      "1.1634920731214105\n"
     ]
    }
   ],
   "source": [
    "import numpy as np\n",
    "\n",
    "\n",
    "data_x = np.array([-1.5,0.5,1.67])\n",
    "data_y = np.array([3.75, 1.22, 2.9])\n",
    "differences = calc_div_diff(list(data_x), list(data_y))\n",
    "p = Newtons_Divided_Differences(list(differences),data_x)\n",
    "print(p(0.25))"
   ]
  }
 ],
 "metadata": {
  "colab": {
   "provenance": []
  },
  "kernelspec": {
   "display_name": "base",
   "language": "python",
   "name": "python3"
  },
  "language_info": {
   "codemirror_mode": {
    "name": "ipython",
    "version": 3
   },
   "file_extension": ".py",
   "mimetype": "text/x-python",
   "name": "python",
   "nbconvert_exporter": "python",
   "pygments_lexer": "ipython3",
   "version": "3.12.7"
  }
 },
 "nbformat": 4,
 "nbformat_minor": 0
}
