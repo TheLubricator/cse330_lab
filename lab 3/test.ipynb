{
 "cells": [
  {
   "cell_type": "code",
   "execution_count": 2,
   "metadata": {},
   "outputs": [],
   "source": [
    "import numpy as np\n",
    "import math"
   ]
  },
  {
   "cell_type": "code",
   "execution_count": 1,
   "metadata": {},
   "outputs": [],
   "source": [
    "class NodeMakyr():\n",
    "    def __init__(self,element,next):\n",
    "        self.element=element\n",
    "        self.next=next\n",
    "def Array2LinkedList(arr):\n",
    "    \n",
    "    head=NodeMakyr(arr[0],None)\n",
    "    tail=head        \n",
    "    for i in range (1,len(arr)):\n",
    "        n=NodeMakyr(arr[i],None)\n",
    "        tail.next=n\n",
    "        tail=tail.next\n",
    "    return head   \n",
    "def print_stack(st):\n",
    "  if st.isEmpty():\n",
    "    return\n",
    "  p = st.pop()\n",
    "  print('|',p,end=' ')\n",
    "  if p<10:\n",
    "    print(' |')\n",
    "  else:\n",
    "    print('|')\n",
    "  #print('------')\n",
    "  print_stack(st)\n",
    "  st.push(p)\n",
    "class Stack:\n",
    "    def __init__(self):\n",
    "        self.top=None\n",
    "    def push(self,elem): \n",
    "        if self.top==None:\n",
    "            self.top=NodeMakyr(elem,None)\n",
    "        else:\n",
    "            newNode=NodeMakyr(elem,None)\n",
    "            newNode.next=self.top\n",
    "            self.top=newNode\n",
    "    def pop(self):\n",
    "        if self.top==None:\n",
    "            return 'Stack Underflow'\n",
    "        else:\n",
    "            popped=self.top\n",
    "            self.top=self.top.next\n",
    "            popped.next=None\n",
    "            return popped.element  \n",
    "    def peek(self):\n",
    "        if self.top==None:\n",
    "            return 'Stack Underflow'\n",
    "        else:\n",
    "            \n",
    "            return self.top.element  \n",
    "    def isEmpty(self):\n",
    "        if self.top==None:\n",
    "            return True\n",
    "        else:\n",
    "            return False                   "
   ]
  },
  {
   "cell_type": "code",
   "execution_count": null,
   "metadata": {},
   "outputs": [
    {
     "name": "stdout",
     "output_type": "stream",
     "text": [
      "[16, 20] [7, 15] [1, 6] "
     ]
    }
   ],
   "source": [
    "a=[[1,5],[2,3],[4,6],[7,10],[9,12],[8,15],[16,19],[18,20]]\n",
    "def test(a):\n",
    "    \n",
    "    new=Stack()\n",
    "    current=a[0]\n",
    "    for i in range (1,len(a)):\n",
    "        \n",
    "        test=a[i]\n",
    "        if test[0]<=current[1]:\n",
    "            current[1]=max(current[1],test[1])\n",
    "        else:\n",
    "            #new , non overlapping interval found\n",
    "            new.push(current)\n",
    "            current=test    \n",
    "            \n",
    "    #since after last change, the new interval isnt pushed, final one is skipped as loop ends\n",
    "    # thus its added outside loop    \n",
    "    new.push(current)        \n",
    "    return new\n",
    "a=test(a)\n",
    "while a.peek()!='Stack Underflow':\n",
    "    print(a.pop(),end=' ')\n"
   ]
  },
  {
   "cell_type": "code",
   "execution_count": 1,
   "metadata": {},
   "outputs": [
    {
     "data": {
      "text/plain": [
       "1"
      ]
     },
     "execution_count": 1,
     "metadata": {},
     "output_type": "execute_result"
    }
   ],
   "source": [
    "0**0"
   ]
  },
  {
   "cell_type": "code",
   "execution_count": 2,
   "metadata": {},
   "outputs": [
    {
     "name": "stdout",
     "output_type": "stream",
     "text": [
      "Merged intervals: [[1, 6], [7, 15], [16, 25]]\n"
     ]
    }
   ],
   "source": [
    "class NodeMakyr():\n",
    "    def __init__(self, element, next):\n",
    "        self.element = element\n",
    "        self.next = next\n",
    "\n",
    "class Stack:\n",
    "    def __init__(self):\n",
    "        self.top = None\n",
    "\n",
    "    def push(self, elem):\n",
    "        if self.top is None:\n",
    "            self.top = NodeMakyr(elem, None)\n",
    "        else:\n",
    "            newNode = NodeMakyr(elem, None)\n",
    "            newNode.next = self.top\n",
    "            self.top = newNode\n",
    "\n",
    "    def pop(self):\n",
    "        if self.top is None:\n",
    "            return 'Stack Underflow'\n",
    "        else:\n",
    "            popped = self.top\n",
    "            self.top = self.top.next\n",
    "            popped.next = None\n",
    "            return popped.element\n",
    "\n",
    "    def peek(self):\n",
    "        if self.top is None:\n",
    "            return 'Stack Underflow'\n",
    "        else:\n",
    "            return self.top.element\n",
    "\n",
    "    def isEmpty(self):\n",
    "        return self.top is None\n",
    "\n",
    "def mergeIntervals(intervals):\n",
    "    if not intervals:\n",
    "        return []\n",
    "\n",
    "    # Sort intervals by starting times\n",
    "    intervals.sort(key=lambda x: x[0])\n",
    "\n",
    "    merged = []\n",
    "    current_interval = intervals[0]\n",
    "\n",
    "    for i in range(1, len(intervals)):\n",
    "        next_interval = intervals[i]\n",
    "\n",
    "        # Check if there is an overlap\n",
    "        if next_interval[0] <= current_interval[1]:  # Overlap condition\n",
    "            # Merge the intervals\n",
    "            current_interval[1] = max(current_interval[1], next_interval[1])\n",
    "        else:\n",
    "            # No overlap, add the current interval to the merged list\n",
    "            merged.append(current_interval)\n",
    "            current_interval = next_interval\n",
    "\n",
    "    # Add the last interval\n",
    "    merged.append(current_interval)\n",
    "\n",
    "    return merged\n",
    "\n",
    "# Example usage\n",
    "a = a=[[1,5],[2,3],[4,6],[7,10],[9,12],[8,15],[16,19],[18,20],[19,25]]\n",
    "result = mergeIntervals(a)\n",
    "print(\"Merged intervals:\", result)\n"
   ]
  },
  {
   "cell_type": "code",
   "execution_count": 7,
   "metadata": {},
   "outputs": [
    {
     "data": {
      "text/plain": [
       "-4.950655160202225"
      ]
     },
     "execution_count": 7,
     "metadata": {},
     "output_type": "execute_result"
    }
   ],
   "source": [
    "(6*math.exp(-3*(0.5+0.32)))-(6*math.exp(-3*(0.5-0.32)))/(2*0.32)"
   ]
  },
  {
   "cell_type": "code",
   "execution_count": null,
   "metadata": {},
   "outputs": [],
   "source": []
  }
 ],
 "metadata": {
  "kernelspec": {
   "display_name": "base",
   "language": "python",
   "name": "python3"
  },
  "language_info": {
   "codemirror_mode": {
    "name": "ipython",
    "version": 3
   },
   "file_extension": ".py",
   "mimetype": "text/x-python",
   "name": "python",
   "nbconvert_exporter": "python",
   "pygments_lexer": "ipython3",
   "version": "3.12.7"
  }
 },
 "nbformat": 4,
 "nbformat_minor": 2
}
